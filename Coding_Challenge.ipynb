{
  "nbformat": 4,
  "nbformat_minor": 0,
  "metadata": {
    "colab": {
      "provenance": []
    },
    "kernelspec": {
      "name": "python3",
      "display_name": "Python 3"
    },
    "language_info": {
      "name": "python"
    }
  },
  "cells": [
    {
      "cell_type": "code",
      "source": [
        "# Import necessary libraries\n",
        "import pandas as pd\n",
        "from sklearn.model_selection import train_test_split\n",
        "from sklearn.linear_model import LinearRegression\n",
        "from sklearn.metrics import mean_squared_error\n",
        "\n",
        "# Load the training and test datasets\n",
        "train_data = pd.read_csv('/content/train_v9rqX0R.csv')\n",
        "test_data = pd.read_csv('/content/test_AbJTz2l.csv')\n",
        "\n",
        "# Data Preprocessing\n",
        "# Handle missing values (e.g., by imputing the mean or median)\n",
        "train_data['Item_Weight'].fillna(train_data['Item_Weight'].mean(), inplace=True)\n",
        "test_data['Item_Weight'].fillna(test_data['Item_Weight'].mean(), inplace=True)\n",
        "\n",
        "# Encoding Categorical Variables: Convert categorical data to numerical\n",
        "train_data = pd.get_dummies(train_data, columns=['Item_Fat_Content', 'Item_Type', 'Outlet_Size', 'Outlet_Location_Type', 'Outlet_Type'])\n",
        "test_data = pd.get_dummies(test_data, columns=['Item_Fat_Content', 'Item_Type', 'Outlet_Size', 'Outlet_Location_Type', 'Outlet_Type'])\n",
        "\n",
        "# Define the features and target variable\n",
        "X = train_data.drop(columns=['Item_Identifier', 'Outlet_Identifier', 'Item_Outlet_Sales'])\n",
        "y = train_data['Item_Outlet_Sales']\n",
        "\n",
        "# Split the data into training and validation sets\n",
        "X_train, X_val, y_train, y_val = train_test_split(X, y, test_size=0.2, random_state=42)\n",
        "\n",
        "# Build a regression model (e.g., Linear Regression)\n",
        "model = LinearRegression()\n",
        "model.fit(X_train, y_train)\n",
        "\n",
        "# Make predictions on the validation set\n",
        "y_pred = model.predict(X_val)\n",
        "\n",
        "# Evaluate the model using a suitable metric (e.g., Mean Squared Error)\n",
        "mse = mean_squared_error(y_val, y_pred)\n",
        "print(f'Mean Squared Error: {mse}')\n",
        "\n",
        "# Train the model on the entire training dataset\n",
        "model.fit(X, y)\n",
        "\n",
        "# Make predictions on the test dataset\n",
        "test_predictions = model.predict(test_data.drop(columns=['Item_Identifier', 'Outlet_Identifier']))\n",
        "\n",
        "# Add the predictions to the test dataset\n",
        "test_data['Item_Outlet_Sales'] = test_predictions\n",
        "\n",
        "# Save the results to a CSV file for submission\n",
        "submission = test_data[['Item_Identifier', 'Outlet_Identifier', 'Item_Outlet_Sales']]\n",
        "submission.to_csv('sales_predictions.csv', index=False)\n"
      ],
      "metadata": {
        "colab": {
          "base_uri": "https://localhost:8080/"
        },
        "id": "SFfuWTU1FpNR",
        "outputId": "d42c0459-f21c-4a5f-adad-949af2ed0d4b"
      },
      "execution_count": 13,
      "outputs": [
        {
          "output_type": "stream",
          "name": "stdout",
          "text": [
            "Mean Squared Error: 1143863.1251237593\n"
          ]
        }
      ]
    }
  ]
}